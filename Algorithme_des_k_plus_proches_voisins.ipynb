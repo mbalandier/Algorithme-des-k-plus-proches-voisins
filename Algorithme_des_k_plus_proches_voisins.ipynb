{
  "cells": [
    {
      "metadata": {
        "id": "D_BZOPvqW52m"
      },
      "cell_type": "markdown",
      "source": [
        "#TD Python : Algorithme des k plus proches voisins\n",
        "<br>\n",
        "<br>\n",
        "<img src=\"https://capytale2.ac-paris.fr/web/sites/default/files/2021-11-28-22-10-04//mbn_ADV08830/network.svg\" width=\"200\">\n",
        "\n",
        "# 1. Introduction\n",
        "\n",
        "L’algorithme des **k plus proches voisins** *(en anglais : k nearest neighbours)* appartient à la famille des algorithmes d’**apprentissage automatique** *(machine learning)*.\n",
        "\n",
        "L’idée d’apprentissage automatique ne date pas d’hier, puisque le terme de machine learning a été utilisé pour la première fois par l’informaticien américain Arthur Samuel en **1959**. Les algorithmes d’apprentissage automatique ont connu un fort regain d’intérêt au début des années **2000** notamment grâce à la **quantité de données** disponibles sur internet.\n",
        "\n",
        "Le Machine Learning est une branche de l’**intelligence artificielle** qui a pour but de donner la possibilité aux ordinateurs d’**apprendre**. Un ordinateur n’est pas intelligent, il ne fait qu’exécuter des tâches. On lui décrit sous forme de programmes quoi faire et comment le faire. C’est ce qu’on appelle la **programmation**.\n",
        "\n",
        "Le **Machine Learning** traite des sujets complexes où la programmation traditionnelle trouve ses limites. Construire un programme qui conduit une voiture serait très complexe voire impossible. Cela étant dû aux nombres infinis des cas possibles à traiter… Le Machine Learning traite cette problématique différemment. Au lieu de décrire quoi faire, le programme **apprendra par lui-même** comment conduire en “observant” des expérimentations.\n",
        "\n",
        "Machine Learning : Donner la possibilité à l’ordinateur d’**apprendre sans être programmé**.\n",
        "\n",
        "En fonction des données d’expérimentations que prendra l’algorithme d’apprentissage en entrée, il déduira par lui-même une hypothèse de fonctionnement. Il utilisera cette dernière pour de nouveaux cas, et affinera son expérience au fil du temps.\n",
        "\n",
        "\n",
        "# 2. Étude d'un exemple : entraînement d'un robot\n",
        "\n",
        "Exécutez le bloc d'instructions ci-dessous pour avoir un meilleur rendu de la suite de cette actvité :"
      ]
    },
    {
      "metadata": {
        "trusted": true,
        "colab": {
          "base_uri": "https://localhost:8080/",
          "height": 17
        },
        "id": "nMIi8T4RW52s",
        "outputId": "c7fbf44b-d774-491d-c577-204f81d5e8bf"
      },
      "cell_type": "code",
      "source": [
        "from IPython.display import HTML\n",
        "HTML(\"\"\"\n",
        "<style>\n",
        ".pixel {\n",
        "  image-rendering: pixelated;\n",
        "  image-rendering: -moz-crisp-edges;\n",
        "  image-rendering: crisp-edges;\n",
        "  margin:0px !important;\n",
        "}\n",
        ".output_svg{\n",
        "  display:flex;\n",
        "  justify-content: space-around;\n",
        "}\n",
        "</style>\n",
        "\"\"\")"
      ],
      "execution_count": 21,
      "outputs": [
        {
          "output_type": "execute_result",
          "data": {
            "text/html": [
              "\n",
              "<style>\n",
              ".pixel {\n",
              "  image-rendering: pixelated;\n",
              "  image-rendering: -moz-crisp-edges;\n",
              "  image-rendering: crisp-edges;\n",
              "  margin:0px !important;\n",
              "}\n",
              ".output_svg{\n",
              "  display:flex;\n",
              "  justify-content: space-around;\n",
              "}\n",
              "</style>\n"
            ],
            "text/plain": [
              "<IPython.core.display.HTML object>"
            ]
          },
          "metadata": {},
          "execution_count": 21
        }
      ]
    },
    {
      "metadata": {
        "id": "Z5mFlRrxW52u"
      },
      "cell_type": "markdown",
      "source": [
        "## 2.1. Objectif\n",
        "\n",
        "L’objectif de ce TD est de se familiariser avec l’algorithme des **k plus proches voisins** et de trouver une valeur du nombre de voisins k qui minimise les erreurs dans la prise de décision pour **optimiser la navigation du robot**. \n",
        "\n",
        "Le principe de base est que l’objectif du robot est de parcourir la plus grande distance **sans percuter un mur**. Le robot est placé dans une arène avec des murs rouges.\n",
        "\n",
        "Le **capteur** utilisé est une **caméra** intégrée au robot.\n",
        "<br/>\n",
        "<br/>\n",
        "<div class=\"output_svg\">\n",
        "    <div>\n",
        "        <img src=\"https://capytale2.ac-paris.fr/web/sites/default/files/2021-11-28-22-10-52//mbn_ADV08830/robot.jpg\" width=\"300px\"/>\n",
        "        <div style=\"text-align:center; font-weight:bold;\">caméra intégrée dans le robot</div>\n",
        "    </div>\n",
        "    <div>\n",
        "        <img src=\"https://capytale2.ac-paris.fr/web/sites/default/files/2021-11-28-22-11-39//mbn_ADV08830/arene.jpg\" width=\"300px\"/>\n",
        "        <div style=\"text-align:center; font-weight:bold;\">le robot dans son arène</div>\n",
        "    </div>\n",
        "</div>\n",
        "\n",
        "Les **actions** possibles sont :\n",
        "\n",
        "* \"aller tout droit\"\n",
        "* \"tourner à droite\"\n",
        "* \"tourner à gauche\"\n",
        "\n",
        "## 2.2. Entraînez le robot\n",
        "\n",
        "Si vous étiez à la place du robot, **quelles actions feriez-vous** dans les cas suivants ?\n",
        "<br><br>\n",
        "<div class=\"output_svg\">\n",
        "<img src=\"https://capytale2.ac-paris.fr/web/sites/default/files/2021-11-28-20-50-09//mbn_ADV08830/1.png\" width=\"128px\" height=\"96px\" class=\"pixel\" alt=\"1.png\"/>\n",
        "<img src=\"https://capytale2.ac-paris.fr/web/sites/default/files/2021-11-28-20-50-13//mbn_ADV08830/2.png\" width=\"128px\" height=\"96px\" class=\"pixel\" alt=\"2.png\"/>\n",
        "<img src=\"https://capytale2.ac-paris.fr/web/sites/default/files/2021-11-28-20-50-17//mbn_ADV08830/3.png\" width=\"128px\" height=\"96px\" class=\"pixel\" alt=\"3.png\"/>\n",
        "<img src=\"https://capytale2.ac-paris.fr/web/sites/default/files/2021-11-28-20-50-21//mbn_ADV08830/4.png\" width=\"128px\" height=\"96px\" class=\"pixel\" alt=\"4.png\"/>\n",
        "<img src=\"https://capytale2.ac-paris.fr/web/sites/default/files/2021-11-28-20-50-29//mbn_ADV08830/5.png\" width=\"128px\" height=\"96px\" class=\"pixel\" alt=\"5.png\"/>\n",
        "<img src=\"https://capytale2.ac-paris.fr/web/sites/default/files/2021-11-28-20-50-37//mbn_ADV08830/6.png\" width=\"128px\" height=\"96px\" class=\"pixel\" alt=\"6.png\"/>\n",
        "<img src=\"https://capytale2.ac-paris.fr/web/sites/default/files/2021-11-28-21-02-23//mbn_ADV08830/7.png\" width=\"128px\" height=\"96px\" class=\"pixel\" alt=\"7.png\"/>\n",
        "<img src=\"https://capytale2.ac-paris.fr/web/sites/default/files/2021-11-28-20-50-46//mbn_ADV08830/8.png\" width=\"128px\" height=\"96px\" class=\"pixel\" alt=\"8.png\"/>\n",
        "</div>\n",
        "\n",
        "Pour répondre à cette question, **complétez les points de suspension** ci-dessous par le texte de l'action **(\"aller tout droit\", \"tourner à droite\" ou \"tourner à gauche\")** :\n"
      ]
    },
    {
      "metadata": {
        "trusted": true,
        "id": "8RKNZiNxW52w"
      },
      "cell_type": "code",
      "source": [
        "# Votre code ici :\n",
        "images=[\n",
        "    {\"nom\":\"1.png\", \"action\":\"tourner à droite\"}, \n",
        "    {\"nom\":\"2.png\", \"action\":...}, \n",
        "    {\"nom\":\"3.png\", \"action\":...},  \n",
        "    {\"nom\":\"4.png\", \"action\":...},  \n",
        "    {\"nom\":\"5.png\", \"action\":...},  \n",
        "    {\"nom\":\"6.png\", \"action\":...},  \n",
        "    {\"nom\":\"7.png\", \"action\":...},  \n",
        "    {\"nom\":\"8.png\", \"action\":...}]"
      ],
      "execution_count": 22,
      "outputs": []
    },
    {
      "metadata": {
        "trusted": true,
        "id": "P03PO3XwW52y"
      },
      "cell_type": "code",
      "source": [
        "# SOLUTION :\n",
        "images = [{'nom': '1.png', 'action': \"tourner à droite\"}, \n",
        "          {'nom': '2.png', 'action': \"aller tout droit\"}, \n",
        "          {'nom': '3.png', 'action': \"aller tout droit\"}, \n",
        "          {'nom': '4.png', 'action': \"tourner à droite\"}, \n",
        "          {'nom': '5.png', 'action': \"tourner à gauche\"}, \n",
        "          {'nom': '6.png', 'action': \"tourner à gauche\"}, \n",
        "          {'nom': '7.png', 'action': \"tourner à gauche\"},  \n",
        "          {'nom': '8.png', 'action': \"tourner à gauche\"}]"
      ],
      "execution_count": 23,
      "outputs": []
    },
    {
      "metadata": {
        "trusted": true,
        "scrolled": true,
        "colab": {
          "base_uri": "https://localhost:8080/",
          "height": 0
        },
        "id": "LDW_28kSW52y",
        "outputId": "2c5af152-d916-4723-cd5c-67c61ae75a28"
      },
      "cell_type": "code",
      "source": [
        "# Test\n",
        "for dico in images:\n",
        "    assert (dico[\"action\"] in (\"aller tout droit\", \"tourner à droite\", \"tourner à gauche\")), \"La valeur saisie pour \" + dico[\"nom\"] + \" est invalide.\"\n",
        "print(\"Tout est OK.\")"
      ],
      "execution_count": 24,
      "outputs": [
        {
          "output_type": "stream",
          "name": "stdout",
          "text": [
            "Tout est OK.\n"
          ]
        }
      ]
    },
    {
      "metadata": {
        "id": "tM25qVOfW52z"
      },
      "cell_type": "markdown",
      "source": [
        "## 2.3. Analysez l'image filmée par le robot\n",
        "\n",
        "L’image issue de la caméra est de taille 64*48 pixels. \n",
        "\n",
        "Pour pouvoir prendre la décision dans tous les cas possibles, il faut obtenir la valeur numérique des composantes des pixels de l'image. \n",
        "\n",
        "Exécutez les instructions ci-dessous pour **importer la première** :"
      ]
    },
    {
      "metadata": {
        "trusted": true,
        "colab": {
          "base_uri": "https://localhost:8080/",
          "height": 65
        },
        "id": "27jvomlMW520",
        "outputId": "a8623b5a-ca92-4614-f5b5-c72d9e913f26"
      },
      "cell_type": "code",
      "source": [
        "from PIL import Image\n",
        "\n",
        "nomFichier=\"1.png\"\n",
        "Image.open(nomFichier)"
      ],
      "execution_count": 25,
      "outputs": [
        {
          "output_type": "execute_result",
          "data": {
            "image/png": "[encoded data removed]",
            "text/plain": [
              "<PIL.PngImagePlugin.PngImageFile image mode=RGB size=64x48 at 0x7FDF14C229D0>"
            ]
          },
          "metadata": {},
          "execution_count": 25
        }
      ]
    },
    {
      "metadata": {
        "id": "7LII9gT6W521"
      },
      "cell_type": "markdown",
      "source": [
        "### 2.3.1 En niveaux de gris\n",
        "\n",
        "Pour **simplifier** le traitement, on peut obtenir une image en **niveaux de gris** en parcourant chaque pixel et en remplaçant les valeurs des composantes rouge, verte et bleue par : \n",
        "\n",
        "$$ gris = \\frac{rouge+vert+bleu}{3} $$\n",
        "\n",
        "Exécutez les instructions ci-dessous pour obtenir l'image en niveaux de gris :"
      ]
    },
    {
      "metadata": {
        "trusted": true,
        "colab": {
          "base_uri": "https://localhost:8080/",
          "height": 65
        },
        "id": "O1IfYTJ-W521",
        "outputId": "3286ca4d-add9-48b9-c9e5-d9140d65e227"
      },
      "cell_type": "code",
      "source": [
        "def transformerEnGris(nomFichier):\n",
        "    image1 = Image.open(nomFichier)\n",
        "    image2 = Image.new('RGB',(64,48))\n",
        "    for x in range(64):\n",
        "        for y in range(48):\n",
        "            r,v,b = image1.getpixel((x, y)) # r,v,b prennent les valeurs des composante RVB du pixel (x,y) de image1\n",
        "            g = int((r+v+b)/3)\n",
        "            image2.putpixel((x, y),(g,g,g)) # On fixe la couleur du pixel (x,y) de image2\n",
        "    return image2\n",
        "\n",
        "transformerEnGris(nomFichier)"
      ],
      "execution_count": 26,
      "outputs": [
        {
          "output_type": "execute_result",
          "data": {
            "image/png": "[encoded data removed]",
            "text/plain": [
              "<PIL.Image.Image image mode=RGB size=64x48 at 0x7FDF14C22050>"
            ]
          },
          "metadata": {},
          "execution_count": 26
        }
      ]
    },
    {
      "metadata": {
        "id": "it0d6mzuW522"
      },
      "cell_type": "markdown",
      "source": [
        "### 2.3.2 Avec un meilleur contraste\n",
        "\n",
        "Une image plus contrastée est obtenue en ignorant la composante rouge (présente à la fois dans les tons rouges et les tons blancs). La formule serait donc plutôt :\n",
        "\n",
        "$$ gris = \\frac{vert+bleu}{2} $$\n",
        "\n",
        "Copiez/collez puis modifiez la fonction `transformerEnGris` pour obtenir une meilleure image en niveaux de gris :"
      ]
    },
    {
      "metadata": {
        "trusted": true,
        "id": "N4l4I7f5W522"
      },
      "cell_type": "code",
      "source": [
        "# Votre code ici :\n"
      ],
      "execution_count": 27,
      "outputs": []
    },
    {
      "metadata": {
        "trusted": true,
        "scrolled": true,
        "colab": {
          "base_uri": "https://localhost:8080/",
          "height": 65
        },
        "id": "MNpoYNIOW523",
        "outputId": "65c58ab1-6090-4ccf-94d1-fd40a6d3f948"
      },
      "cell_type": "code",
      "source": [
        "# SOLUTION :\n",
        "def transformerEnGris(nomFichier):\n",
        "    image1 = Image.open(nomFichier)\n",
        "    image2 = Image.new('RGB',(64,48))\n",
        "    for x in range(64):\n",
        "        for y in range(48):\n",
        "            r,v,b = image1.getpixel((x, y))\n",
        "            g = int((v+b)/2)\n",
        "            image2.putpixel((x, y),(g,g,g))\n",
        "    return image2\n",
        "\n",
        "transformerEnGris(nomFichier)"
      ],
      "execution_count": 28,
      "outputs": [
        {
          "output_type": "execute_result",
          "data": {
            "image/png": "[encoded data removed]",
            "text/plain": [
              "<PIL.Image.Image image mode=RGB size=64x48 at 0x7FDF14C2D990>"
            ]
          },
          "metadata": {},
          "execution_count": 28
        }
      ]
    },
    {
      "metadata": {
        "id": "JVm3pnC1W523"
      },
      "cell_type": "markdown",
      "source": [
        "## 2.3. Définissez deux zones dans l'image\n",
        "\n",
        "Pour simplifier le problème, nous ne prendrons en compte que la moyenne du niveau de gris de deux zones de l'image dont les positions sont définies par la figure suivante :\n",
        "\n",
        "<img src=\"https://capytale2.ac-paris.fr/web/sites/default/files/2021-11-02-14-26-47//mbn_ADV08830/image010.png\" width=\"600px\"/>\n",
        "\n",
        "### 2.3.1. Isolez la zone de gauche\n",
        "\n",
        "Exécutez les instructions ci-dessous pour isoler la zone de gauche :"
      ]
    },
    {
      "metadata": {
        "trusted": true,
        "scrolled": false,
        "colab": {
          "base_uri": "https://localhost:8080/",
          "height": 34
        },
        "id": "ziyePB5uW524",
        "outputId": "f03a9e11-987b-43b2-9f50-99a992bb095a"
      },
      "cell_type": "code",
      "source": [
        "def isoler(nomFichier, xDebut, yDebut):\n",
        "    image1 = transformerEnGris(nomFichier)\n",
        "    gauche = Image.new('RGB',(13,13))\n",
        "    for x in range(13):\n",
        "        for y in range(13):\n",
        "            r,v,b = image1.getpixel((xDebut+x, yDebut+y))\n",
        "            gauche.putpixel((x, y),(r,v,b))\n",
        "    return gauche\n",
        "\n",
        "isoler(nomFichier, 10, 28)"
      ],
      "execution_count": 29,
      "outputs": [
        {
          "output_type": "execute_result",
          "data": {
            "image/png": "[encoded data removed]",
            "text/plain": [
              "<PIL.Image.Image image mode=RGB size=13x13 at 0x7FDF14C28F90>"
            ]
          },
          "metadata": {},
          "execution_count": 29
        }
      ]
    },
    {
      "metadata": {
        "id": "IwwtdoH7W524"
      },
      "cell_type": "markdown",
      "source": [
        "### 2.3.2. Moyenne du niveau de gris de la zone de gauche\n",
        "\n",
        "Créez une fonction `moyenne` qui :\n",
        "\n",
        "* prend en paramètre une image (celle renvoyée par la fonction `isoler`)\n",
        "* renvoie la valeur moyenne du niveau de gris des pixels de cette image."
      ]
    },
    {
      "metadata": {
        "trusted": true,
        "id": "q-GfmkbIW525"
      },
      "cell_type": "code",
      "source": [
        "# Votre code ici :\n"
      ],
      "execution_count": 30,
      "outputs": []
    },
    {
      "metadata": {
        "trusted": true,
        "colab": {
          "base_uri": "https://localhost:8080/",
          "height": 0
        },
        "id": "kxBoq8ynW525",
        "outputId": "fbc5978a-e110-4d31-f709-4ea409f64628"
      },
      "cell_type": "code",
      "source": [
        "# SOLUTION :\n",
        "def moyenne(image):\n",
        "    sommeGauche = 0\n",
        "    for x in range(13):\n",
        "        for y in range(13):\n",
        "            r,v,b = image.getpixel((x, y))\n",
        "            sommeGauche += r\n",
        "    return sommeGauche / (13*13)\n",
        "\n",
        "gauche = isoler(nomFichier, 10, 28)\n",
        "moyenne(gauche)"
      ],
      "execution_count": 31,
      "outputs": [
        {
          "output_type": "execute_result",
          "data": {
            "text/plain": [
              "5.923076923076923"
            ]
          },
          "metadata": {},
          "execution_count": 31
        }
      ]
    },
    {
      "metadata": {
        "id": "QRK8fc49W525"
      },
      "cell_type": "markdown",
      "source": [
        "### 2.3.3. Isolez la zone de droite\n",
        "\n",
        "Ecrivez ci-dessous une instruction pour isoler la zone de droite :"
      ]
    },
    {
      "metadata": {
        "trusted": true,
        "id": "KME-26R4W525"
      },
      "cell_type": "code",
      "source": [
        "# Votre code ici :\n"
      ],
      "execution_count": 32,
      "outputs": []
    },
    {
      "metadata": {
        "trusted": true,
        "colab": {
          "base_uri": "https://localhost:8080/",
          "height": 34
        },
        "id": "5iAK17jpW526",
        "outputId": "30bf7cee-e184-4189-824f-813949026f73"
      },
      "cell_type": "code",
      "source": [
        "# SOLUTION :\n",
        "isoler(nomFichier, 42, 28)"
      ],
      "execution_count": 33,
      "outputs": [
        {
          "output_type": "execute_result",
          "data": {
            "image/png": "[encoded data removed]",
            "text/plain": [
              "<PIL.Image.Image image mode=RGB size=13x13 at 0x7FDF14BED9D0>"
            ]
          },
          "metadata": {},
          "execution_count": 33
        }
      ]
    },
    {
      "metadata": {
        "id": "mBEv-nwfW526"
      },
      "cell_type": "markdown",
      "source": [
        "### 2.3.4. Moyenne du niveau de gris de la zone de droite\n",
        "\n",
        "Ecrivez ci-dessous des instructions pour afficher la valeur moyenne du niveau de gris des pixels de la zone de droite :"
      ]
    },
    {
      "metadata": {
        "trusted": true,
        "id": "mD0cubNJW526"
      },
      "cell_type": "code",
      "source": [
        "# Votre code ici :\n"
      ],
      "execution_count": 34,
      "outputs": []
    },
    {
      "metadata": {
        "trusted": true,
        "colab": {
          "base_uri": "https://localhost:8080/",
          "height": 0
        },
        "id": "4DXQIUlwW527",
        "outputId": "fd6d84d4-1982-41d6-abbc-b15c0448228d"
      },
      "cell_type": "code",
      "source": [
        "# SOLUTION :\n",
        "droite = isoler(nomFichier, 42, 28)\n",
        "moyenne(droite)"
      ],
      "execution_count": 35,
      "outputs": [
        {
          "output_type": "execute_result",
          "data": {
            "text/plain": [
              "52.798816568047336"
            ]
          },
          "metadata": {},
          "execution_count": 35
        }
      ]
    },
    {
      "metadata": {
        "id": "pt9mJQyXW527"
      },
      "cell_type": "markdown",
      "source": [
        "### 2.3.5. Récapitulatif des deux zones\n",
        "\n",
        "Affichons les deux zones sur la même image :"
      ]
    },
    {
      "metadata": {
        "trusted": true,
        "colab": {
          "base_uri": "https://localhost:8080/",
          "height": 65
        },
        "id": "PPDeqAnzW527",
        "outputId": "1aef1c98-4321-4e8e-f658-eda9e9c276a6"
      },
      "cell_type": "code",
      "source": [
        "def afficherZones(nomFichier):\n",
        "    image=Image.new('RGB',(64,48))\n",
        "    image.paste(isoler(nomFichier, 10, 28), (10, 28))\n",
        "    image.paste(isoler(nomFichier, 42, 28), (42, 28))\n",
        "    return image\n",
        "\n",
        "Image.open(nomFichier).show()\n",
        "afficherZones(nomFichier)"
      ],
      "execution_count": 36,
      "outputs": [
        {
          "output_type": "execute_result",
          "data": {
            "image/png": "[encoded data removed]",
            "text/plain": [
              "<PIL.Image.Image image mode=RGB size=64x48 at 0x7FDF14C34510>"
            ]
          },
          "metadata": {},
          "execution_count": 36
        }
      ]
    },
    {
      "metadata": {
        "id": "-gDLoH-QW527"
      },
      "cell_type": "markdown",
      "source": [
        "## 2.4. Représentez sur un graphique\n",
        "\n",
        "### 2.4.1. Un premier point pour la première image\n",
        "\n",
        "Affichons sur un graphique un point ayant :\n",
        "\n",
        "* pour ordonnée la moyenne du niveau de gris de la zone gauche\n",
        "* pour abscisse la moyenne du niveau de gris de la zone droite"
      ]
    },
    {
      "metadata": {
        "trusted": true,
        "scrolled": false,
        "colab": {
          "base_uri": "https://localhost:8080/",
          "height": 274
        },
        "id": "JEPEfRDvW527",
        "outputId": "0e3a869c-5fd9-4d9e-f16e-72981a76ef7d"
      },
      "cell_type": "code",
      "source": [
        "import matplotlib.pyplot as plt\n",
        "from matplotlib.offsetbox import OffsetImage,AnnotationBbox\n",
        "from matplotlib.cbook import get_sample_data\n",
        "\n",
        "def ajouterPoint(nomFichier, action=None, annotations=True, marqueur='+'):\n",
        "    x=moyenne(isoler(nomFichier, 42, 28))\n",
        "    y=moyenne(isoler(nomFichier, 10, 28))\n",
        "    couleur={}\n",
        "    couleur[\"aller tout droit\"]=\"red\"\n",
        "    couleur[\"tourner à gauche\"]=\"green\"\n",
        "    couleur[\"tourner à droite\"]=\"blue\"\n",
        "    c=\"black\"\n",
        "    if action :\n",
        "        c = couleur[action]\n",
        "    fig=plt.scatter(x, y, color=c, marker = marqueur, label=action)\n",
        "    fig.axes.set_xlim(0, 255)\n",
        "    fig.axes.set_ylim(0, 255)\n",
        "    fig.axes.set_aspect('equal')\n",
        "    if annotations:\n",
        "        arr_img = plt.imread(nomFichier, format='png')\n",
        "\n",
        "        imagebox = OffsetImage(arr_img, zoom=0.4)\n",
        "        imagebox.image.axes = fig.axes\n",
        "\n",
        "        ab = AnnotationBbox(imagebox, xy = (x, y),\n",
        "                            xybox=(5., 30.),\n",
        "                            xycoords='data',\n",
        "                            boxcoords=\"offset points\",\n",
        "                            pad=0.3,\n",
        "                            arrowprops=dict(\n",
        "                                arrowstyle=\"->\",\n",
        "                                connectionstyle=\"arc3,rad=-0.2\")\n",
        "                            )\n",
        "\n",
        "        fig.axes.add_artist(ab)\n",
        "\n",
        "def afficherGraphique():\n",
        "    plt.xlabel(\"zone droite\", size = 13,)\n",
        "    plt.ylabel(\"zone gauche\", size = 13)\n",
        "    plt.title(\"Niveau de gris à gauche en fonction du niveau de gris à droite\")\n",
        "    plt.tight_layout(rect=[0, 0.03, 1, 0.95])\n",
        "    plt.show() \n",
        "\n",
        "plt.clf()\n",
        "ajouterPoint(nomFichier)\n",
        "afficherGraphique()"
      ],
      "execution_count": 37,
      "outputs": [
        {
          "output_type": "display_data",
          "data": {
            "image/png": "[encoded data removed]",
            "text/plain": [
              "<Figure size 432x288 with 1 Axes>"
            ]
          },
          "metadata": {
            "needs_background": "light"
          }
        }
      ]
    },
    {
      "metadata": {
        "id": "-07zDe6tW528"
      },
      "cell_type": "markdown",
      "source": [
        "### 2.4.2. Pour toutes les images\n",
        "\n",
        "Affichons les points correspondant à toutes les images :"
      ]
    },
    {
      "metadata": {
        "trusted": true,
        "colab": {
          "base_uri": "https://localhost:8080/",
          "height": 274
        },
        "id": "OBzJ4ugTW528",
        "outputId": "8c709f61-4317-452e-e63b-cef61d2fc5b4"
      },
      "cell_type": "code",
      "source": [
        "def ajouterTousLesPoints(annotations=True):\n",
        "    plt.clf()\n",
        "    for element in images:\n",
        "        ajouterPoint(element[\"nom\"],element[\"action\"], annotations)\n",
        "    handles, labels = plt.gca().get_legend_handles_labels()\n",
        "    by_label = dict(zip(labels, handles))\n",
        "    plt.legend(by_label.values(), by_label.keys(), bbox_to_anchor=(1.05, 1.0), loc='upper left')\n",
        "\n",
        "ajouterTousLesPoints()\n",
        "afficherGraphique()"
      ],
      "execution_count": 39,
      "outputs": [
        {
          "output_type": "display_data",
          "data": {
            "image/png": "[encoded data removed]",
            "text/plain": [
              "<Figure size 432x288 with 1 Axes>"
            ]
          },
          "metadata": {
            "needs_background": "light"
          }
        }
      ]
    },
    {
      "metadata": {
        "id": "djh86qYLW528"
      },
      "cell_type": "markdown",
      "source": [
        "# 3. L’algorithme des k plus proches voisins\n",
        "\n",
        "## 3.1. Ajout d’une donnée non labellisée\n",
        "\n",
        "### 3.1.1. Avec prédiction intuitive\n",
        "\n",
        "Le graphique obtenu précédemment montre que les 3 actions (\"aller tout droit\", \"aller à gauche\" et \"aller à droite\") sont bien séparées. On peut alors ajouter une donnée non labellisée n’appartenant pas à l’ensemble d’origine :"
      ]
    },
    {
      "metadata": {
        "trusted": true,
        "colab": {
          "base_uri": "https://localhost:8080/",
          "height": 274
        },
        "id": "hPtyxJGXW528",
        "outputId": "2069133d-529d-4de1-eeb1-f6d97796a76e"
      },
      "cell_type": "code",
      "source": [
        "ajouterTousLesPoints(False)\n",
        "\n",
        "nomFichierTest=\"test1.png\"\n",
        "Image.open(nomFichierTest).show()\n",
        "\n",
        "ajouterPoint(nomFichierTest)\n",
        "afficherGraphique()"
      ],
      "execution_count": 40,
      "outputs": [
        {
          "output_type": "display_data",
          "data": {
            "image/png": "[encoded data removed]",
            "text/plain": [
              "<Figure size 432x288 with 1 Axes>"
            ]
          },
          "metadata": {
            "needs_background": "light"
          }
        }
      ]
    },
    {
      "metadata": {
        "id": "X9vmAuibW529"
      },
      "cell_type": "markdown",
      "source": [
        "Dans l’exemple ci-dessus on peut facilement déterminer l’action à effectuer.\n",
        "\n",
        "### 3.1.2. Cas plus difficile...\n",
        "\n",
        "Dans certains cas il est un peu plus difficile de se prononcer ”au premier coup d'oeil” :"
      ]
    },
    {
      "metadata": {
        "trusted": true,
        "colab": {
          "base_uri": "https://localhost:8080/",
          "height": 274
        },
        "id": "PsWae42gW529",
        "outputId": "64e54c2e-736b-42f8-9f33-1f4fe4d97f05"
      },
      "cell_type": "code",
      "source": [
        "ajouterTousLesPoints(False)\n",
        "\n",
        "nomFichierTest=\"test2.png\"\n",
        "Image.open(nomFichierTest).show()\n",
        "\n",
        "ajouterPoint(nomFichierTest)\n",
        "afficherGraphique()"
      ],
      "execution_count": 41,
      "outputs": [
        {
          "output_type": "display_data",
          "data": {
            "image/png": "[encoded data removed]",
            "text/plain": [
              "<Figure size 432x288 with 1 Axes>"
            ]
          },
          "metadata": {
            "needs_background": "light"
          }
        }
      ]
    },
    {
      "metadata": {
        "id": "wZ-gnGBoW529"
      },
      "cell_type": "markdown",
      "source": [
        "À partir de l’exemple ci-dessus, on souhaite proposer une méthode permettant de traiter ce genre de cas litigieux. "
      ]
    },
    {
      "metadata": {
        "id": "tnV1BeamW529"
      },
      "cell_type": "markdown",
      "source": [
        "## 3.2. L'algorithme\n",
        "\n",
        "Solution proposée par l’algorithme des k plus proches voisins :\n",
        "\n",
        "* on calcule la distance entre notre point et chaque point issu des autres images (à chaque fois c’est un calcul de distance entre 2 points tout ce qu’il y a de plus classique) ;\n",
        "* on sélectionne uniquement les k distances les plus petites (les k plus proches voisins) ;\n",
        "* parmi les k plus proches voisins, on détermine quelle est l'action. On associe à notre ”image mystère” cette ”action majoritaire parmi les k plus proches voisins”.\n",
        "\n",
        "Dans l’exemple évoqué ci-dessus, pour k=3, nous obtenons :\n",
        "\n",
        "Si le robot capte cette image, il y a une ”forte” probabilité que l'action à faire soit : ..."
      ]
    },
    {
      "metadata": {
        "id": "pZLU412OW52-"
      },
      "cell_type": "markdown",
      "source": [
        "### 3.2.1. Le calcul de distance (ou plutôt de son carré)\n",
        "\n",
        "Définir une fonction nommée `carreDistance` qui prend en paramètre deux noms de fichiers images `image1` et `image2` et qui renvoie d² (de type `float`) : le carré de la distance qui sépare leurs points respectifs.\n",
        "\n",
        "*Aide : Utilisez le théorème de Pythagore.*"
      ]
    },
    {
      "metadata": {
        "trusted": true,
        "id": "6b2ez5SSW52-"
      },
      "cell_type": "code",
      "source": [
        "# Votre code ici :\n"
      ],
      "execution_count": 42,
      "outputs": []
    },
    {
      "metadata": {
        "trusted": true,
        "id": "aelyAPDDW52-"
      },
      "cell_type": "code",
      "source": [
        "# SOLUTION :\n",
        "def carreDistance(image1,image2):\n",
        "    x1=moyenne(isoler(image1, 42, 28))\n",
        "    y1=moyenne(isoler(image1, 10, 28))\n",
        "    x2=moyenne(isoler(image2, 42, 28))\n",
        "    y2=moyenne(isoler(image2, 10, 28))\n",
        "    return (x2-x1)**2 + (y2-y1)**2"
      ],
      "execution_count": 43,
      "outputs": []
    },
    {
      "metadata": {
        "trusted": true,
        "colab": {
          "base_uri": "https://localhost:8080/",
          "height": 0
        },
        "id": "DCWU7tvUW52_",
        "outputId": "7b8fc838-d745-47ae-d15a-29017ec6eb3e"
      },
      "cell_type": "code",
      "source": [
        "carreDistance(nomFichierTest,\"1.png\")"
      ],
      "execution_count": 44,
      "outputs": [
        {
          "output_type": "execute_result",
          "data": {
            "text/plain": [
              "19005.2822030041"
            ]
          },
          "metadata": {},
          "execution_count": 44
        }
      ]
    },
    {
      "metadata": {
        "id": "Eul7S4JRW52_"
      },
      "cell_type": "markdown",
      "source": [
        "Observez le résultat pour chaque image en exécutant le code suivant :"
      ]
    },
    {
      "metadata": {
        "trusted": true,
        "colab": {
          "base_uri": "https://localhost:8080/",
          "height": 0
        },
        "id": "3Fhm5NE_W52_",
        "outputId": "ea6f02bd-49bc-49e4-90bc-7dd2e04c06f9"
      },
      "cell_type": "code",
      "source": [
        "for element in images:\n",
        "    element[\"d2\"]=carreDistance(nomFichierTest,element[\"nom\"])\n",
        "images"
      ],
      "execution_count": 45,
      "outputs": [
        {
          "output_type": "execute_result",
          "data": {
            "text/plain": [
              "[{'action': 'tourner à droite', 'd2': 19005.2822030041, 'nom': '1.png'},\n",
              " {'action': 'aller tout droit', 'd2': 9831.505374461676, 'nom': '2.png'},\n",
              " {'action': 'aller tout droit', 'd2': 4909.7107944399695, 'nom': '3.png'},\n",
              " {'action': 'tourner à droite', 'd2': 10577.642589545183, 'nom': '4.png'},\n",
              " {'action': 'tourner à gauche', 'd2': 18004.125660866215, 'nom': '5.png'},\n",
              " {'action': 'tourner à gauche', 'd2': 26107.6100276601, 'nom': '6.png'},\n",
              " {'action': 'tourner à gauche', 'd2': 4414.02205805119, 'nom': '7.png'},\n",
              " {'action': 'tourner à gauche', 'd2': 19859.216869157244, 'nom': '8.png'}]"
            ]
          },
          "metadata": {},
          "execution_count": 45
        }
      ]
    },
    {
      "metadata": {
        "id": "p8vL8qL3W53A"
      },
      "cell_type": "markdown",
      "source": [
        "### 3.2.2. Le tri des données par distance croissante\n",
        "\n",
        "Mettre en oeuvre le tri par sélection de ces fleurs selon `distanceCarre` croissant en s'arrêtant à la k-ième valeur triée.\n",
        "\n",
        "La fonction s'appellera `trier()`, prendra en paramètre `k` et ne renverra rien."
      ]
    },
    {
      "metadata": {
        "trusted": true,
        "id": "OmaXBmb7W53A"
      },
      "cell_type": "code",
      "source": [
        "# Votre code ici :\n"
      ],
      "execution_count": 46,
      "outputs": []
    },
    {
      "metadata": {
        "trusted": true,
        "id": "SENChtC2W53A"
      },
      "cell_type": "code",
      "source": [
        "# SOLUTION :\n",
        "def trier(k:int):\n",
        "    iMin=0\n",
        "    for i in range(k):\n",
        "        iMin = i\n",
        "        for j in range(i+1,len(images)) :\n",
        "            if images[j]['d2']<images[iMin]['d2'] :\n",
        "                iMin = j\n",
        "        if iMin != i :\n",
        "            temp=images[iMin]\n",
        "            images[iMin]=images[i]\n",
        "            images[i]=temp"
      ],
      "execution_count": 47,
      "outputs": []
    },
    {
      "metadata": {
        "id": "nYh_SFpwW53A"
      },
      "cell_type": "markdown",
      "source": [
        "### 3.2.3. Les k plus proches voisins\n",
        "\n",
        "Observez les 3 images les plus proches :"
      ]
    },
    {
      "metadata": {
        "trusted": true,
        "colab": {
          "base_uri": "https://localhost:8080/",
          "height": 0
        },
        "id": "SGzY0yIUW53A",
        "outputId": "e7b65ca7-80c2-4f39-cef7-3c02376e5740"
      },
      "cell_type": "code",
      "source": [
        "k=3\n",
        "trier(k)\n",
        "plusProchesImages=images[:3]\n",
        "print(plusProchesImages)\n",
        "for element in plusProchesImages:\n",
        "    Image.open(element[\"nom\"]).show()"
      ],
      "execution_count": 48,
      "outputs": [
        {
          "output_type": "stream",
          "name": "stdout",
          "text": [
            "[{'nom': '7.png', 'action': 'tourner à gauche', 'd2': 4414.02205805119}, {'nom': '3.png', 'action': 'aller tout droit', 'd2': 4909.7107944399695}, {'nom': '2.png', 'action': 'aller tout droit', 'd2': 9831.505374461676}]\n"
          ]
        }
      ]
    },
    {
      "metadata": {
        "id": "wrWy68UiW53B"
      },
      "cell_type": "markdown",
      "source": [
        "### 3.2.4. Sur le graphique\n",
        "\n",
        "Exécutez le code suivant pour afficher ces k plus proches voisins sur un graphique :"
      ]
    },
    {
      "metadata": {
        "trusted": true,
        "colab": {
          "base_uri": "https://localhost:8080/",
          "height": 274
        },
        "id": "UxTzLYcJW53B",
        "outputId": "db6eeaad-a1c0-4aa6-8b2f-5d860c469951"
      },
      "cell_type": "code",
      "source": [
        "ajouterTousLesPoints(False)\n",
        "\n",
        "ajouterPoint(nomFichierTest)\n",
        "\n",
        "for element in plusProchesImages:\n",
        "    ajouterPoint(element[\"nom\"],element[\"action\"],marqueur=\"o\")\n",
        "\n",
        "afficherGraphique()"
      ],
      "execution_count": 49,
      "outputs": [
        {
          "output_type": "display_data",
          "data": {
            "image/png": "[encoded data removed]",
            "text/plain": [
              "<Figure size 432x288 with 1 Axes>"
            ]
          },
          "metadata": {
            "needs_background": "light"
          }
        }
      ]
    },
    {
      "metadata": {
        "id": "iPPVH8EnW53B"
      },
      "cell_type": "markdown",
      "source": [
        "### 3.2.5. Le comptage du \"score\" des différentes actions\n",
        "\n",
        "Définir un fonction `compter` sans paramètres, qui compte parmi les `k` plus proches voisins le nombre d'actions de chaque sorte. \n",
        "\n",
        "Cette fonction renverra le tableau suivant pour `k=3` :\n",
        "\n",
        "`{'tourner à gauche': 1, 'aller tout droit': 2}`"
      ]
    },
    {
      "metadata": {
        "trusted": true,
        "id": "veXWi3YAW53B"
      },
      "cell_type": "code",
      "source": [
        "# Votre code ici :\n"
      ],
      "execution_count": 50,
      "outputs": []
    },
    {
      "metadata": {
        "trusted": true,
        "id": "yhDPhML4W53B"
      },
      "cell_type": "code",
      "source": [
        "def compter():\n",
        "    imagesVoisines={}\n",
        "    for element in plusProchesImages:\n",
        "        if element[\"action\"] not in imagesVoisines:\n",
        "            imagesVoisines[element[\"action\"]]=1\n",
        "        else:\n",
        "            imagesVoisines[element[\"action\"]] +=1\n",
        "    return imagesVoisines"
      ],
      "execution_count": 51,
      "outputs": []
    },
    {
      "metadata": {
        "id": "NA3mchIKW53B"
      },
      "cell_type": "markdown",
      "source": [
        "Exécutez le code suivant pour voir la conformité de votre fonction pour `k=3` :"
      ]
    },
    {
      "metadata": {
        "trusted": true,
        "colab": {
          "base_uri": "https://localhost:8080/",
          "height": 0
        },
        "id": "t2cnIsPeW53C",
        "outputId": "adfe41c3-c2d3-4b72-9c18-981be8ff401d"
      },
      "cell_type": "code",
      "source": [
        "totaux=compter()\n",
        "totaux"
      ],
      "execution_count": 52,
      "outputs": [
        {
          "output_type": "execute_result",
          "data": {
            "text/plain": [
              "{'aller tout droit': 2, 'tourner à gauche': 1}"
            ]
          },
          "metadata": {},
          "execution_count": 52
        }
      ]
    },
    {
      "metadata": {
        "id": "ye6Ftr9jW53C"
      },
      "cell_type": "markdown",
      "source": [
        "### 3.2.6. La prédiction\n",
        "\n",
        "Définir un fonction `predire` sans paramètres ni valeur de retour. \n",
        "\n",
        "Cette fonction affichera une phrase indiquant l'action à effectuer."
      ]
    },
    {
      "metadata": {
        "trusted": true,
        "id": "oBMzHne3W53C"
      },
      "cell_type": "code",
      "source": [
        "# Votre code ici :\n"
      ],
      "execution_count": 53,
      "outputs": []
    },
    {
      "metadata": {
        "trusted": true,
        "id": "_HK2Snz4W53C"
      },
      "cell_type": "code",
      "source": [
        "def predire():\n",
        "    maxi=0\n",
        "    actionChoisie=None\n",
        "    for action in totaux:\n",
        "        if totaux[action]>maxi:\n",
        "            maxi=totaux[action]\n",
        "            actionChoisie=action\n",
        "    print(\"L'action à effectuer est :\",actionChoisie)"
      ],
      "execution_count": 54,
      "outputs": []
    },
    {
      "metadata": {
        "trusted": true,
        "colab": {
          "base_uri": "https://localhost:8080/",
          "height": 0
        },
        "id": "T6-8XU2EW53C",
        "outputId": "8e7818f9-fd68-431f-faa0-3c2fd88bf9c1"
      },
      "cell_type": "code",
      "source": [
        "predire()"
      ],
      "execution_count": 55,
      "outputs": [
        {
          "output_type": "stream",
          "name": "stdout",
          "text": [
            "L'action à effectuer est : aller tout droit\n"
          ]
        }
      ]
    },
    {
      "metadata": {
        "id": "g3OOGS7hW53C"
      },
      "cell_type": "markdown",
      "source": [
        "Pour aller plus loin, modifiez le programme ci-dessus afin d’étudier les changements induits par la modification du paramètre k (notamment pour k=5)."
      ]
    }
  ],
  "metadata": {
    "kernelspec": {
      "display_name": "Python 3",
      "language": "python",
      "name": "python3"
    },
    "language_info": {
      "codemirror_mode": {
        "name": "ipython",
        "version": 3
      },
      "file_extension": ".py",
      "mimetype": "text/x-python",
      "name": "python",
      "nbconvert_exporter": "python",
      "pygments_lexer": "ipython3",
      "version": "3.7.6"
    },
    "colab": {
      "name": "Algorithme des k plus proches voisins.ipynb",
      "provenance": [],
      "collapsed_sections": []
    }
  },
  "nbformat": 4,
  "nbformat_minor": 0
}